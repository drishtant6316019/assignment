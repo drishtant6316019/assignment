{
  "nbformat": 4,
  "nbformat_minor": 0,
  "metadata": {
    "colab": {
      "name": "assignment19.ipynb",
      "version": "0.3.2",
      "views": {},
      "default_view": {},
      "provenance": []
    },
    "kernelspec": {
      "name": "python3",
      "display_name": "Python 3"
    }
  },
  "cells": [
    {
      "metadata": {
        "id": "AFsNiMPbHbcX",
        "colab_type": "code",
        "colab": {
          "autoexec": {
            "startup": false,
            "wait_interval": 0
          }
        }
      },
      "cell_type": "code",
      "source": [
        "Create a numpy array with 10 elements of the shape(10,1) using np.random and find out the mean of the elements using basic numpy functions."
      ],
      "execution_count": 0,
      "outputs": []
    },
    {
      "metadata": {
        "id": "ZopQYOzoHlo2",
        "colab_type": "code",
        "colab": {
          "autoexec": {
            "startup": false,
            "wait_interval": 0
          },
          "base_uri": "https://localhost:8080/",
          "height": 204
        },
        "outputId": "a4b47aa5-7c90-415a-bdc2-e0a3362c7936",
        "executionInfo": {
          "status": "ok",
          "timestamp": 1530855870643,
          "user_tz": 420,
          "elapsed": 1474,
          "user": {
            "displayName": "Drishtant gupta",
            "photoUrl": "https://lh3.googleusercontent.com/a/default-user=s128",
            "userId": "115567232068341516140"
          }
        }
      },
      "cell_type": "code",
      "source": [
        "import numpy as np\n",
        "\n",
        "a=np.random.rand(10,1)\n",
        "print(a)\n",
        "print(\"mean=\",a.mean())"
      ],
      "execution_count": 1,
      "outputs": [
        {
          "output_type": "stream",
          "text": [
            "[[0.77822877]\n",
            " [0.35436441]\n",
            " [0.32120807]\n",
            " [0.62291306]\n",
            " [0.03024518]\n",
            " [0.77745188]\n",
            " [0.20071141]\n",
            " [0.39557572]\n",
            " [0.19468216]\n",
            " [0.21575238]]\n",
            "mean= 0.3891133047712344\n"
          ],
          "name": "stdout"
        }
      ]
    },
    {
      "metadata": {
        "id": "IPZ8-GziHuDm",
        "colab_type": "code",
        "colab": {
          "autoexec": {
            "startup": false,
            "wait_interval": 0
          }
        }
      },
      "cell_type": "code",
      "source": [
        "Create a numpy array with 20 elements of the shape(20,1) using np.random find the variance and standard deviation of the elements"
      ],
      "execution_count": 0,
      "outputs": []
    },
    {
      "metadata": {
        "id": "60z5Y_ljHxfJ",
        "colab_type": "code",
        "colab": {
          "autoexec": {
            "startup": false,
            "wait_interval": 0
          },
          "base_uri": "https://localhost:8080/",
          "height": 391
        },
        "outputId": "814d30f4-e5f3-4bf2-8d8e-1bb7152045d6",
        "executionInfo": {
          "status": "ok",
          "timestamp": 1530855901632,
          "user_tz": 420,
          "elapsed": 1171,
          "user": {
            "displayName": "Drishtant gupta",
            "photoUrl": "https://lh3.googleusercontent.com/a/default-user=s128",
            "userId": "115567232068341516140"
          }
        }
      },
      "cell_type": "code",
      "source": [
        "import numpy as np\n",
        "\n",
        "a=np.random.rand(20,1)\n",
        "print(a)\n",
        "print(\"standard deviation=\",a.std())\n",
        "print(\"variance=\",a.var())"
      ],
      "execution_count": 2,
      "outputs": [
        {
          "output_type": "stream",
          "text": [
            "[[0.2275066 ]\n",
            " [0.47854657]\n",
            " [0.29202457]\n",
            " [0.28996035]\n",
            " [0.03675132]\n",
            " [0.92492867]\n",
            " [0.33676283]\n",
            " [0.18708647]\n",
            " [0.84079779]\n",
            " [0.76494725]\n",
            " [0.83029817]\n",
            " [0.32770144]\n",
            " [0.82081736]\n",
            " [0.94712924]\n",
            " [0.13857364]\n",
            " [0.14262094]\n",
            " [0.50807715]\n",
            " [0.54476861]\n",
            " [0.25786297]\n",
            " [0.1648952 ]]\n",
            "standard deviation= 0.2913020335944823\n",
            "variance= 0.0848568747762809\n"
          ],
          "name": "stdout"
        }
      ]
    },
    {
      "metadata": {
        "id": "udFAKT_MH0rg",
        "colab_type": "code",
        "colab": {
          "autoexec": {
            "startup": false,
            "wait_interval": 0
          }
        }
      },
      "cell_type": "code",
      "source": [
        "Create a numpy array A of shape(10,20) and B of shape (20,25) using np.random. Print the matrix which is the matrix multiplication of A and B. The shape of the new matrix should be (10,25). Using basic numpy math functions only find the sum of all the elements of the new matrix"
      ],
      "execution_count": 0,
      "outputs": []
    },
    {
      "metadata": {
        "id": "N1ZnUGgdH491",
        "colab_type": "code",
        "colab": {
          "autoexec": {
            "startup": false,
            "wait_interval": 0
          },
          "base_uri": "https://localhost:8080/",
          "height": 935
        },
        "outputId": "e7f72cea-c884-4b67-acbc-603c6508f59c",
        "executionInfo": {
          "status": "ok",
          "timestamp": 1530855941534,
          "user_tz": 420,
          "elapsed": 852,
          "user": {
            "displayName": "Drishtant gupta",
            "photoUrl": "https://lh3.googleusercontent.com/a/default-user=s128",
            "userId": "115567232068341516140"
          }
        }
      },
      "cell_type": "code",
      "source": [
        "import numpy as np\n",
        "A=np.random.rand(10,20)\n",
        "B=np.random.rand(20,25)\n",
        "C=np.matmul(A,B)\n",
        "print(\"new matrix C=\",C)\n",
        "print(\"\")\n",
        "print(\"\")\n",
        "print(\"shape of C=\",C.shape)\n",
        "print(\"sum of elements=\",C.sum())"
      ],
      "execution_count": 3,
      "outputs": [
        {
          "output_type": "stream",
          "text": [
            "new matrix C= [[5.46456999 4.1106209  6.2549343  5.60928015 6.88933058 3.74621082\n",
            "  3.92142071 5.52229389 6.67305856 6.78496898 5.31744056 3.77808148\n",
            "  5.72645364 5.64352138 4.59430562 6.66559141 5.51523709 4.57250855\n",
            "  5.95076765 4.72050403 5.21063131 5.65362905 6.14824637 4.90704733\n",
            "  5.7463445 ]\n",
            " [4.04639073 4.00958428 5.77987775 4.06419294 5.42345089 2.78795105\n",
            "  3.24943214 4.06408105 5.68996382 5.76839767 4.96252509 2.97860852\n",
            "  4.94028015 4.90059475 3.21919036 5.13118461 4.61733722 3.24654623\n",
            "  5.55263965 3.13035352 3.98608305 4.25001683 5.56615741 4.35963616\n",
            "  5.05102068]\n",
            " [5.70059782 4.94687539 6.98884336 5.97459053 6.86447939 5.15329536\n",
            "  5.08359983 5.80828148 7.26393415 6.86537961 6.0391987  4.55535755\n",
            "  5.76898271 6.42252272 5.58749531 7.02266036 5.83089693 5.02505102\n",
            "  6.67491262 4.68335299 5.90578166 5.99705208 6.61777713 5.61571161\n",
            "  5.71213039]\n",
            " [4.90395166 4.82087471 6.92225486 5.00823737 6.1908948  3.85932704\n",
            "  4.76663941 4.45026604 6.35354935 6.47018942 5.19972548 3.84584185\n",
            "  5.07150327 5.72402549 3.93499514 5.40989436 5.52544189 4.7266029\n",
            "  5.77100504 4.70422045 5.81182738 5.05969779 5.66618268 4.84749849\n",
            "  5.73549402]\n",
            " [4.8858308  4.28734598 6.48810866 5.24035688 6.11189685 3.58584343\n",
            "  4.35962501 4.81388654 6.75596045 6.09223261 5.77968618 3.99177595\n",
            "  5.13272279 5.59286777 4.94803905 5.85758732 4.95808542 5.08471855\n",
            "  6.32364555 3.79206291 4.65490999 5.19540243 6.51647144 5.1470441\n",
            "  4.7808083 ]\n",
            " [5.40174314 5.58096252 8.03164427 5.99227478 7.8961706  4.05049058\n",
            "  5.92658311 5.13786235 6.6806858  8.23698368 6.60349427 4.48885959\n",
            "  5.62078064 6.94789199 4.72552525 6.73385094 6.34652152 5.2603742\n",
            "  6.94638538 4.952136   6.63731854 5.88972527 6.85137341 6.16542795\n",
            "  6.65730615]\n",
            " [4.95538636 4.81418569 6.20657424 4.51966703 6.14530143 4.50958059\n",
            "  3.74384622 4.83654576 6.75930535 6.56821733 5.21898936 3.75940588\n",
            "  5.25859735 5.75604408 4.04168145 5.55480421 4.66432253 4.06065257\n",
            "  5.66253374 3.45988126 5.14823735 4.5394701  5.81520645 3.90180777\n",
            "  4.95045821]\n",
            " [5.37850462 4.85621906 6.77413175 5.00819384 6.15340733 4.02371428\n",
            "  4.18173147 4.90004935 6.67565466 5.80306525 6.00167114 4.04735579\n",
            "  5.49372764 6.06756816 4.96075062 6.36838658 5.81081402 5.24258824\n",
            "  6.49054156 4.01680406 4.99034103 5.94312275 6.01270792 4.94008636\n",
            "  5.46898651]\n",
            " [5.62406548 4.83974053 6.70199754 5.1952752  7.09045542 4.21235291\n",
            "  5.08385849 5.0860143  6.51067749 7.01212169 5.73929151 3.76189792\n",
            "  5.79587067 6.41181915 4.53509661 6.14827101 6.03100754 4.85695932\n",
            "  6.01361344 4.75093934 6.42716208 5.90904979 6.30692512 5.38194633\n",
            "  5.82862656]\n",
            " [5.20884925 5.4479675  7.37496571 4.80693928 7.32838028 4.84320654\n",
            "  4.71182956 4.65984954 6.69876336 7.01330397 5.84788217 3.93567741\n",
            "  6.0649563  7.11051076 5.08441463 5.81359698 5.19651115 4.96162104\n",
            "  6.37526056 4.35125672 5.54158236 5.3145973  6.31717579 4.77991136\n",
            "  5.3568122 ]]\n",
            "\n",
            "\n",
            "shape of C= (10, 25)\n",
            "sum of elements= 1350.7923674269696\n"
          ],
          "name": "stdout"
        }
      ]
    },
    {
      "metadata": {
        "id": "3xxonw67H-eY",
        "colab_type": "code",
        "colab": {
          "autoexec": {
            "startup": false,
            "wait_interval": 0
          }
        }
      },
      "cell_type": "code",
      "source": [
        "Create a numpy array A of shape(10,1).Using the basic operations of the numpy array generate an array of shape(10,1) such that each element is the following function applied on each element of A."
      ],
      "execution_count": 0,
      "outputs": []
    },
    {
      "metadata": {
        "id": "zBXjDky9IGzc",
        "colab_type": "code",
        "colab": {
          "autoexec": {
            "startup": false,
            "wait_interval": 0
          },
          "base_uri": "https://localhost:8080/",
          "height": 54
        },
        "outputId": "a7980c31-c741-454f-95df-7ac9b05a05c0",
        "executionInfo": {
          "status": "ok",
          "timestamp": 1530855996839,
          "user_tz": 420,
          "elapsed": 1186,
          "user": {
            "displayName": "Drishtant gupta",
            "photoUrl": "https://lh3.googleusercontent.com/a/default-user=s128",
            "userId": "115567232068341516140"
          }
        }
      },
      "cell_type": "code",
      "source": [
        "import numpy as np\n",
        "import math\n",
        "\n",
        "A=np.random.rand(10,1)\n",
        "#print(A)\n",
        "l=[]\n",
        "for x in A:\n",
        "  for y in x:\n",
        "    B=1 / (1 + math.exp(-y))\n",
        "    l.append(B)\n",
        "print(l)"
      ],
      "execution_count": 5,
      "outputs": [
        {
          "output_type": "stream",
          "text": [
            "[0.666424265960336, 0.6337591160163382, 0.5282377975735076, 0.5871871350288739, 0.5976822943290876, 0.6932042091570311, 0.5475270009568591, 0.6367382304596696, 0.679542839923986, 0.6410250057179605]\n"
          ],
          "name": "stdout"
        }
      ]
    }
  ]
}